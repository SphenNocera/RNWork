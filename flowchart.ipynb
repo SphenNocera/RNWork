{
 "cells": [
  {
   "cell_type": "raw",
   "id": "f0bb22a6-e853-4f13-b190-3897e11a190c",
   "metadata": {
    "editable": true,
    "slideshow": {
     "slide_type": ""
    },
    "tags": [],
    "vscode": {
     "languageId": "raw"
    }
   },
   "source": [
    "---\n",
    "title: \"Tesseract Image Preprocessing Flow\"\n",
    "format:\n",
    "    html:\n",
    "        code-fold: true\n",
    "        toc: true\n",
    "        theme: cosmo\n",
    "        embed-resources: true\n",
    "        mermaid-format: png\n",
    "jupyter: python3\n",
    "author: Stephen Nocera\n",
    "---"
   ]
  },
  {
   "cell_type": "markdown",
   "id": "94f73c99-5092-48f3-8b1a-2e8c26cca1ec",
   "metadata": {
    "editable": true,
    "slideshow": {
     "slide_type": ""
    },
    "tags": []
   },
   "source": [
    "## Overview\n",
    "This document outlines the key steps in improving OCR accuracy through image processing. It describes the process of reading text from images and enhancing results by adjusting based on confidence scores. The methods presented are derived from both extensive research and practical experimentation, with confidence scoring refined through numerous tests on clear and noisy images. The flowchart provides a visual representation of these techniques to optimize OCR performance."
   ]
  },
  {
   "cell_type": "markdown",
   "id": "10128b00-f63a-43df-99b2-ae686fd726fc",
   "metadata": {},
   "source": [
    "## Flowchart"
   ]
  },
  {
   "cell_type": "markdown",
   "id": "086473ff-3a5c-4d53-979e-d2d5b460a3c4",
   "metadata": {
    "editable": true,
    "slideshow": {
     "slide_type": ""
    },
    "tags": []
   },
   "source": [
    "Processes in order:\n",
    "\n",
    "1. Scale (mentioned in flowchart)\n",
    "1. remove lines\n",
    "1. denoise\n",
    "1. sharpen image\n",
    "1. erode\n",
    "1. thresholding\n",
    "\n",
    "```{mermaid}\n",
    "%%{init: {\"flowchart\": {\"defaultRenderer\": \"elk\"}} }%%\n",
    "\n",
    "flowchart TD\n",
    "    start([Start]) -->read_file[/Read file/] --> convert_to_image[Convert pdf file to image] --> get_confidence[\"Record confidence level (tesseract)\"]\n",
    "    convert_to_image --> try_scale[Try scaling] --> get_confidence\n",
    "    \n",
    "    try_scale --> compare_improve{Did confidence improve?} -->|Yes|above_threshold{Above threshold?}\n",
    "    compare_improve -->|No|remove_last_process[\"Remove last process\\n(pop confidence)\"] --> try_next_process\n",
    "    above_threshold -->|Yes|End([End])\n",
    "    above_threshold -->|No|try_next_process[Try next process] --> get_confidence\n",
    "    try_next_process --> compare_improve\n",
    "    \n",
    "```"
   ]
  },
  {
   "cell_type": "markdown",
   "id": "609f8306",
   "metadata": {},
   "source": [
    "::: {.callout-note icon=false}\n",
    "# Notes\n",
    "* Recording a confidence level assumes the values are stored in a stack.\n",
    "* I've set the threshold at 85, as this represents a high confidence level. However, this can be adjusted if needed.\n",
    ":::"
   ]
  },
  {
   "cell_type": "markdown",
   "id": "dd9dc7b5",
   "metadata": {},
   "source": [
    "## Research\n",
    "This section discusses my findings for each of the acord files that I was using for testing. I have provided an example image of each file within its respective section.\n",
    "\n",
    "::: {.callout-note}\n",
    "Click on each image to enlarge.\n",
    ":::\n",
    "\n",
    "### Acord 1\n",
    "![Acord 1](docs/imgs/acord_1.png){width=40% fig-align=\"left\" .lightbox}\n",
    "\n",
    "When processing this ACORD, I found that scaling alone gives the best result.\n",
    "\n",
    "| Preprocessing Type | Confidence Score |\n",
    "|------|--------|----------|\n",
    "|Base|86.25|\n",
    "|<mark>Scaled</mark>|<mark>88.19</mark>|\n",
    "|Denoised|86.43|\n",
    "\n",
    ": Comparison of ACORD 1 scores {.striped}\n",
    "\n",
    "### Acord 2\n",
    "![Acord 2](docs/imgs/acord_2.png){width=40% fig-align=\"left\" .lightbox}\n",
    "\n",
    "This ACORD performed very similar to the first ACORD. Scaling still had the largest impact, however denoising performed slightly better than denoising on the last one.\n",
    "\n",
    "| Preprocessing Type | Confidence Score |\n",
    "|------|--------|----------|\n",
    "|Base|86.97|\n",
    "|<mark>Scaled</mark>|<mark>88.83</mark>|\n",
    "|Denoised|87.19|\n",
    "\n",
    ": Comparison of ACORD 2 scores {.striped}\n",
    "\n",
    "### Acord 3\n",
    "::: {#images ncol-layout=2}\n",
    "![Acord 3](docs/imgs/acord_3.png){width=40% fig-align=\"left\" .lightbox}\n",
    "![Acord 3 without lines](docs/imgs/acord_3_lr.png){width=40% fig-align=\"left\" .lightbox}\n",
    ":::\n",
    "\n",
    "This ACORD proved to be the most difficult out of the 7 files examined. The line in the left side of the file obscured many of the words meaning they could not be properly read.\n",
    "This file was also the most noisy image so that also had to be dealt with. My first approach was to remove the lines from the image, leaving just the words.\n",
    "Looking at that implementation we can see an increase in readability for tesseract.\n",
    "\n",
    "| Preprocessing Type | Confidence Score |\n",
    "|------|--------|----------|\n",
    "|Base|78.54|\n",
    "|Lines removed|81.77|\n",
    "\n",
    ": {.striped}\n",
    "\n",
    "<br>\n",
    "\n",
    "The image is still very noisy, however, so next I removed the noise. Let's look at the denoised image without the lines compared to denoising with the lines.\n",
    "\n",
    "\n",
    "| Preprocessing Type | Confidence Score |\n",
    "|------|--------|----------|\n",
    "|Denoised with lines|80.05|\n",
    "|Denoised without lines|82.18|\n",
    "\n",
    ": {.striped}\n",
    "\n",
    "<br>\n",
    "\n",
    "Combining the 2 approaches I was able to improve it ever so slightly. Here's the performance of removing the lines and denoising the image. The table lists each permutation to compare the order in which the process is used.\n",
    "\n",
    "| Preprocessing Type | Confidence Score |\n",
    "|------|--------|----------|\n",
    "|Denoise then remove lines|81.16|\n",
    "|Remove lines then denoise|82.18|\n",
    "\n",
    ": {.striped}\n",
    "\n",
    "<br>\n",
    "\n",
    "Finally, scaling the image now that it's in a better format.\n",
    "\n",
    "| Preprocessing Type | Confidence Score |\n",
    "|------|--------|----------|\n",
    "|Scaled after removal and denoise|83.12|\n",
    "\n",
    ": {.striped}\n",
    "\n",
    "### Acord 4\n",
    "![Acord 4](docs/imgs/acord_4.png){width=40% fig-align=\"left\" .lightbox}\n",
    "\n",
    "### Acord 5\n",
    "![Acord 5](docs/imgs/acord_5.png){width=40% fig-align=\"left\" .lightbox}\n",
    "\n",
    "### Acord 6\n",
    "![Acord 6](docs/imgs/acord_6.png){width=40% fig-align=\"left\" .lightbox}\n",
    "\n",
    "### Acord 7\n",
    "![Acord 7](docs/imgs/acord_7.png){width=40% fig-align=\"left\" .lightbox}\n"
   ]
  }
 ],
 "metadata": {
  "kernelspec": {
   "display_name": "Python 3 (ipykernel)",
   "language": "python",
   "name": "python3"
  },
  "language_info": {
   "codemirror_mode": {
    "name": "ipython",
    "version": 3
   },
   "file_extension": ".py",
   "mimetype": "text/x-python",
   "name": "python",
   "nbconvert_exporter": "python",
   "pygments_lexer": "ipython3",
   "version": "3.9.6"
  }
 },
 "nbformat": 4,
 "nbformat_minor": 5
}
