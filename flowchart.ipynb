{
 "cells": [
  {
   "cell_type": "raw",
   "id": "f0bb22a6-e853-4f13-b190-3897e11a190c",
   "metadata": {
    "editable": true,
    "slideshow": {
     "slide_type": ""
    },
    "tags": []
   },
   "source": [
    "---\n",
    "title: \"Tesseract Image Preprocessing Flow\"\n",
    "format:\n",
    "    html:\n",
    "        code-fold: true\n",
    "jupyter: python3\n",
    "author: Stephen Nocera\n",
    "toc: true\n",
    "---"
   ]
  },
  {
   "cell_type": "markdown",
   "id": "94f73c99-5092-48f3-8b1a-2e8c26cca1ec",
   "metadata": {
    "editable": true,
    "slideshow": {
     "slide_type": ""
    },
    "tags": []
   },
   "source": [
    "## Overview\n",
    "This document outlines the key steps in improving OCR accuracy through image processing. It describes the process of reading text from images and enhancing results by adjusting based on confidence scores. The methods presented are derived from both extensive research and practical experimentation, with confidence scoring refined through numerous tests on clear and noisy images. The flowchart provides a visual representation of these techniques to optimize OCR performance."
   ]
  },
  {
   "cell_type": "markdown",
   "id": "10128b00-f63a-43df-99b2-ae686fd726fc",
   "metadata": {},
   "source": [
    "## Flowchart"
   ]
  },
  {
   "cell_type": "markdown",
   "id": "086473ff-3a5c-4d53-979e-d2d5b460a3c4",
   "metadata": {
    "editable": true,
    "slideshow": {
     "slide_type": ""
    },
    "tags": []
   },
   "source": [
    "```{mermaid}\n",
    "flowchart TD\n",
    "    start([Start])-->read_image[/Read an Acord file with tesseract/]\n",
    "    read_image --> record_initial_confidence_level[Record initial confidence level] --> try_scale\n",
    "    try_scale[Scale image] --> record_confidence_level[Record confidence level] --> compare_confidence_level{Compare with previous confidence level}\n",
    "    \n",
    "    compare_confidence_level -->|improved|confidence_level_scale{Confidence level}\n",
    "    compare_confidence_level -->|stayed the\\n same|confidence_level_scale\n",
    "    compare_confidence_level -->|worsened|undo_action[Undo action] --> record_confidence_level\n",
    "\n",
    "    confidence_level_scale -->|\"<60\"|less_sixty\n",
    "    confidence_level_scale -->|\"[60, 70)\"|sixty_to_seventy\n",
    "    confidence_level_scale -->|\"[70, 85)\"|seventy_to_eightyfive\n",
    "    confidence_level_scale -->|\"[85, 100]\"|eightyfive_to_hundred\n",
    "```"
   ]
  },
  {
   "cell_type": "code",
   "execution_count": null,
   "id": "4ed8a1f5-c630-4de2-bf28-cfc6df68d94a",
   "metadata": {
    "editable": true,
    "slideshow": {
     "slide_type": ""
    },
    "tags": []
   },
   "outputs": [],
   "source": []
  }
 ],
 "metadata": {
  "kernelspec": {
   "display_name": "Python 3 (ipykernel)",
   "language": "python",
   "name": "python3"
  },
  "language_info": {
   "codemirror_mode": {
    "name": "ipython",
    "version": 3
   },
   "file_extension": ".py",
   "mimetype": "text/x-python",
   "name": "python",
   "nbconvert_exporter": "python",
   "pygments_lexer": "ipython3",
   "version": "3.9.6"
  }
 },
 "nbformat": 4,
 "nbformat_minor": 5
}
